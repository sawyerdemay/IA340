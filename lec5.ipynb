{
 "cells": [
  {
   "cell_type": "markdown",
   "id": "bad0a736-90f8-4e2b-a43c-4d7461b9ac39",
   "metadata": {},
   "source": [
    "# lec 5"
   ]
  },
  {
   "cell_type": "code",
   "execution_count": 3,
   "id": "ef1886e1-c8d0-447f-854d-34b8cf7175af",
   "metadata": {
    "tags": []
   },
   "outputs": [
    {
     "name": "stdout",
     "output_type": "stream",
     "text": [
      "my name is bob\n"
     ]
    }
   ],
   "source": [
    "my_name = 'bob'\n",
    "\n",
    "print(f\"my name is {my_name}\")"
   ]
  },
  {
   "cell_type": "code",
   "execution_count": 4,
   "id": "939ef206-1c4e-4aba-90bd-3650bb59114f",
   "metadata": {
    "tags": []
   },
   "outputs": [],
   "source": [
    "import boto3\n",
    "from botocore.exceptions import ClientError\n",
    "import json\n",
    "\n",
    "def get_secret(secret_name):\n",
    "    region_name = \"us-east-1\"\n",
    "\n",
    "    # Create a Secrets Manager client\n",
    "    session = boto3.session.Session()\n",
    "    client = session.client(\n",
    "        service_name='secretsmanager',\n",
    "        region_name=region_name\n",
    "    )\n",
    "\n",
    "    try:\n",
    "        get_secret_value_response = client.get_secret_value(\n",
    "            SecretId=secret_name\n",
    "        )\n",
    "    except ClientError as e:\n",
    "        raise e\n",
    "\n",
    "    secret = get_secret_value_response['SecretString']\n",
    "    \n",
    "    return json.loads(secret)"
   ]
  },
  {
   "cell_type": "code",
   "execution_count": 5,
   "id": "52d48afd-210f-4a6b-a0f7-d5c78d72f506",
   "metadata": {
    "tags": []
   },
   "outputs": [],
   "source": [
    "import psycopg2\n",
    "\n",
    "conn = psycopg2.connect(host=get_secret('postgresql')['host'],\n",
    "                      user=get_secret('postgresql')['username'],\n",
    "                      password = get_secret('postgresql')['password'],\n",
    "                      dbname=get_secret('postgresql')['engine'])\n",
    "\n",
    "cur = conn.cursor()"
   ]
  },
  {
   "cell_type": "code",
   "execution_count": 6,
   "id": "c0e9a4ab-af8f-4b2b-a7b1-40b1fa57d3d6",
   "metadata": {
    "tags": []
   },
   "outputs": [
    {
     "name": "stdout",
     "output_type": "stream",
     "text": [
      "\n",
      "            insert into name(fips,name)\n",
      "\n",
      "            values('100', 'fake state')\n",
      "\n",
      "            \n"
     ]
    }
   ],
   "source": [
    "fips= '100'\n",
    "state_name= 'fake state'\n",
    "insert_sql= f\"\"\"\n",
    "            insert into name(fips,name)\n",
    "\n",
    "            values('{fips}', '{state_name}')\n",
    "\n",
    "            \"\"\"\n",
    "print(insert_sql)"
   ]
  },
  {
   "cell_type": "code",
   "execution_count": 7,
   "id": "8bae20c1-2ade-49a4-b23d-50ad94aa87fd",
   "metadata": {
    "tags": []
   },
   "outputs": [],
   "source": [
    "cur.execute(insert_sql)"
   ]
  },
  {
   "cell_type": "code",
   "execution_count": 8,
   "id": "0163ebeb-19b3-4df5-af87-6ef4901d3cac",
   "metadata": {
    "tags": []
   },
   "outputs": [],
   "source": [
    "conn.commit()"
   ]
  },
  {
   "cell_type": "code",
   "execution_count": 9,
   "id": "07d579b0-5227-4592-8b77-75f183f5e536",
   "metadata": {
    "tags": []
   },
   "outputs": [],
   "source": [
    "query_sql= \"select * from name\""
   ]
  },
  {
   "cell_type": "code",
   "execution_count": 10,
   "id": "5333f3d3-09f0-438d-9a50-21db2a501403",
   "metadata": {
    "tags": []
   },
   "outputs": [],
   "source": [
    "cur.execute(query_sql)"
   ]
  },
  {
   "cell_type": "code",
   "execution_count": 11,
   "id": "9c4a6ea5-8221-4905-b23a-e5af8c2fa69c",
   "metadata": {
    "tags": []
   },
   "outputs": [
    {
     "name": "stdout",
     "output_type": "stream",
     "text": [
      "('01', 'Alabama')\n",
      "('02', 'Alaska')\n",
      "('04', 'Arizona')\n",
      "('05', 'Arkansas')\n",
      "('06', 'California')\n",
      "('08', 'Colorado')\n",
      "('09', 'Connecticut')\n",
      "('10', 'Delaware')\n",
      "('12', 'Florida')\n",
      "('13', 'Georgia')\n",
      "('15', 'Hawaii')\n",
      "('16', 'Idaho')\n",
      "('17', 'Illinois')\n",
      "('18', 'Indiana')\n",
      "('19', 'Iowa')\n",
      "('20', 'Kansas')\n",
      "('21', 'Kentucky')\n",
      "('22', 'Louisiana')\n",
      "('23', 'Maine')\n",
      "('24', 'Maryland')\n",
      "('25', 'Massachusetts')\n",
      "('26', 'Michigan')\n",
      "('27', 'Minnesota')\n",
      "('28', 'Mississippi')\n",
      "('29', 'Missouri')\n",
      "('30', 'Montana')\n",
      "('31', 'Nebraska')\n",
      "('32', 'Nevada')\n",
      "('33', 'New Hampshire')\n",
      "('34', 'New Jersey')\n",
      "('35', 'New Mexico')\n",
      "('36', 'New York')\n",
      "('37', 'North Carolina')\n",
      "('38', 'North Dakota')\n",
      "('39', 'Ohio')\n",
      "('40', 'Oklahoma')\n",
      "('41', 'Oregon')\n",
      "('42', 'Pennsylvania')\n",
      "('44', 'Rhode Island')\n",
      "('45', 'South Carolina')\n",
      "('46', 'South Dakota')\n",
      "('47', 'Tennessee')\n",
      "('48', 'Texas')\n",
      "('49', 'Utah')\n",
      "('50', 'Vermont')\n",
      "('51', 'Virginia')\n",
      "('53', 'Washington')\n",
      "('54', 'West Virginia')\n",
      "('55', 'Wisconsin')\n",
      "('56', 'Wyoming')\n",
      "('60', 'American Samoa')\n",
      "('66', 'Guam')\n",
      "('69', 'Northern Mariana Islands')\n",
      "('72', 'Puerto Rico')\n",
      "('78', 'Virgin Islands')\n",
      "('11', 'District of Columbia')\n",
      "('100', 'fake state')\n"
     ]
    }
   ],
   "source": [
    "for row in cur.fetchall():\n",
    "    print(row)"
   ]
  },
  {
   "cell_type": "code",
   "execution_count": 12,
   "id": "06bf112c-4cbf-4a77-8d5c-2495dc0ef18b",
   "metadata": {
    "tags": []
   },
   "outputs": [],
   "source": [
    "sql_query=\"select * from income where fips= '51' \""
   ]
  },
  {
   "cell_type": "code",
   "execution_count": 13,
   "id": "c755019a-b8cd-420d-9d0c-233868cb4afc",
   "metadata": {
    "tags": []
   },
   "outputs": [
    {
     "name": "stderr",
     "output_type": "stream",
     "text": [
      "/tmp/ipykernel_11358/1681879956.py:2: UserWarning: pandas only supports SQLAlchemy connectable (engine/connection) or database string URI or sqlite3 DBAPI2 connection. Other DBAPI2 objects are not tested. Please consider using SQLAlchemy.\n",
      "  df = pd.read_sql(sql_query, conn)\n"
     ]
    },
    {
     "data": {
      "text/html": [
       "<div>\n",
       "<style scoped>\n",
       "    .dataframe tbody tr th:only-of-type {\n",
       "        vertical-align: middle;\n",
       "    }\n",
       "\n",
       "    .dataframe tbody tr th {\n",
       "        vertical-align: top;\n",
       "    }\n",
       "\n",
       "    .dataframe thead th {\n",
       "        text-align: right;\n",
       "    }\n",
       "</style>\n",
       "<table border=\"1\" class=\"dataframe\">\n",
       "  <thead>\n",
       "    <tr style=\"text-align: right;\">\n",
       "      <th></th>\n",
       "      <th>fips</th>\n",
       "      <th>income</th>\n",
       "      <th>year</th>\n",
       "    </tr>\n",
       "  </thead>\n",
       "  <tbody>\n",
       "    <tr>\n",
       "      <th>0</th>\n",
       "      <td>51</td>\n",
       "      <td>54240</td>\n",
       "      <td>2005</td>\n",
       "    </tr>\n",
       "    <tr>\n",
       "      <th>1</th>\n",
       "      <td>51</td>\n",
       "      <td>56277</td>\n",
       "      <td>2006</td>\n",
       "    </tr>\n",
       "    <tr>\n",
       "      <th>2</th>\n",
       "      <td>51</td>\n",
       "      <td>59562</td>\n",
       "      <td>2007</td>\n",
       "    </tr>\n",
       "    <tr>\n",
       "      <th>3</th>\n",
       "      <td>51</td>\n",
       "      <td>61233</td>\n",
       "      <td>2008</td>\n",
       "    </tr>\n",
       "    <tr>\n",
       "      <th>4</th>\n",
       "      <td>51</td>\n",
       "      <td>59330</td>\n",
       "      <td>2009</td>\n",
       "    </tr>\n",
       "  </tbody>\n",
       "</table>\n",
       "</div>"
      ],
      "text/plain": [
       "  fips  income  year\n",
       "0   51   54240  2005\n",
       "1   51   56277  2006\n",
       "2   51   59562  2007\n",
       "3   51   61233  2008\n",
       "4   51   59330  2009"
      ]
     },
     "execution_count": 13,
     "metadata": {},
     "output_type": "execute_result"
    }
   ],
   "source": [
    "import pandas as pd\n",
    "df = pd.read_sql(sql_query, conn)\n",
    "df.head()"
   ]
  },
  {
   "cell_type": "code",
   "execution_count": 15,
   "id": "34c202ae-e78b-4c48-a94b-8f6f82c0341e",
   "metadata": {
    "tags": []
   },
   "outputs": [
    {
     "data": {
      "text/plain": [
       "<Axes: xlabel='year'>"
      ]
     },
     "execution_count": 15,
     "metadata": {},
     "output_type": "execute_result"
    },
    {
     "data": {
      "image/png": "[encoded data removed]",
      "text/plain": [
       "<Figure size 640x480 with 1 Axes>"
      ]
     },
     "metadata": {},
     "output_type": "display_data"
    }
   ],
   "source": [
    "df.plot(x= 'year', y='income')"
   ]
  },
  {
   "cell_type": "code",
   "execution_count": null,
   "id": "9d21bebc-744f-4445-87e1-48a0a4784795",
   "metadata": {},
   "outputs": [],
   "source": [
    "cur.close()\n",
    "conn.close()"
   ]
  }
 ],
 "metadata": {
  "kernelspec": {
   "display_name": "conda_python3",
   "language": "python",
   "name": "conda_python3"
  },
  "language_info": {
   "codemirror_mode": {
    "name": "ipython",
    "version": 3
   },
   "file_extension": ".py",
   "mimetype": "text/x-python",
   "name": "python",
   "nbconvert_exporter": "python",
   "pygments_lexer": "ipython3",
   "version": "3.10.14"
  }
 },
 "nbformat": 4,
 "nbformat_minor": 5
}
